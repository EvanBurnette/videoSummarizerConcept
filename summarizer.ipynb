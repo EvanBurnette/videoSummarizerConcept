{
 "cells": [
  {
   "cell_type": "code",
   "execution_count": 1,
   "metadata": {},
   "outputs": [],
   "source": [
    "filename = 'warmerBucketInstructions.mkv'"
   ]
  },
  {
   "cell_type": "code",
   "execution_count": null,
   "metadata": {},
   "outputs": [],
   "source": [
    "# ffmpeg -i input_file.wav -ar 16000 -ac 1 -sample_fmt s16 output_file.wav\n",
    "# command = f'ffmpeg -i {filename}{ext} -ar 16000 -ac 1 -sample_fmt s16 {filename}.wav'"
   ]
  },
  {
   "cell_type": "code",
   "execution_count": null,
   "metadata": {},
   "outputs": [],
   "source": [
    "# command"
   ]
  },
  {
   "cell_type": "code",
   "execution_count": null,
   "metadata": {},
   "outputs": [],
   "source": [
    "# !{command}"
   ]
  },
  {
   "cell_type": "code",
   "execution_count": null,
   "metadata": {},
   "outputs": [],
   "source": [
    "# %pip install whispercpp\n",
    "# %pip install git+https://github.com/AIWintermuteAI/whispercpp.git -vv"
   ]
  },
  {
   "cell_type": "code",
   "execution_count": null,
   "metadata": {},
   "outputs": [],
   "source": [
    "# %pip install build"
   ]
  },
  {
   "cell_type": "code",
   "execution_count": null,
   "metadata": {},
   "outputs": [],
   "source": [
    "# from whispercpp import Whisper"
   ]
  },
  {
   "cell_type": "code",
   "execution_count": null,
   "metadata": {},
   "outputs": [],
   "source": [
    "# whisper = Whisper.from_pretrained(\"tiny.en\")"
   ]
  },
  {
   "cell_type": "code",
   "execution_count": null,
   "metadata": {},
   "outputs": [],
   "source": [
    "# %pip install ffmpeg-python\n",
    "# %pip install numpy"
   ]
  },
  {
   "cell_type": "code",
   "execution_count": 2,
   "metadata": {},
   "outputs": [],
   "source": [
    "import ffmpeg\n",
    "import numpy as np\n",
    "import numpy"
   ]
  },
  {
   "cell_type": "code",
   "execution_count": null,
   "metadata": {},
   "outputs": [],
   "source": [
    "# try:\n",
    "#     y, _ = (\n",
    "#         ffmpeg.input(filename, threads=0)\n",
    "#         .output(\"-\", format=\"s16le\", acodec=\"pcm_s16le\", ac=1, ar=16000)\n",
    "#         .run(\n",
    "#             cmd=[\"ffmpeg\", \"-nostdin\"], capture_stdout=True, capture_stderr=True\n",
    "#         )\n",
    "#     )\n",
    "# except ffmpeg.Error as e:\n",
    "#     raise RuntimeError(f\"Failed to load audio: {e.stderr.decode()}\") from e\n",
    "\n",
    "# arr = np.frombuffer(y, np.int16).flatten().astype(np.float32) / 32768.0\n",
    "\n",
    "# whisper.transcribe(arr)"
   ]
  },
  {
   "cell_type": "code",
   "execution_count": null,
   "metadata": {},
   "outputs": [],
   "source": [
    "# whisper.transcribe_from_file(\"warmerBucketInstructions.wav\")"
   ]
  },
  {
   "cell_type": "code",
   "execution_count": null,
   "metadata": {},
   "outputs": [],
   "source": [
    "# from whispercpp import api"
   ]
  },
  {
   "cell_type": "code",
   "execution_count": null,
   "metadata": {},
   "outputs": [],
   "source": [
    "# %pip install openai-whisper"
   ]
  },
  {
   "cell_type": "code",
   "execution_count": 3,
   "metadata": {},
   "outputs": [
    {
     "name": "stderr",
     "output_type": "stream",
     "text": [
      "/opt/homebrew/anaconda3/envs/py10/lib/python3.10/site-packages/whisper/transcribe.py:115: UserWarning: FP16 is not supported on CPU; using FP32 instead\n",
      "  warnings.warn(\"FP16 is not supported on CPU; using FP32 instead\")\n",
      "OMP: Info #276: omp_set_nested routine deprecated, please use omp_set_max_active_levels instead.\n"
     ]
    },
    {
     "name": "stdout",
     "output_type": "stream",
     "text": [
      " Instruction[4.2600000000000025/4.980000000000001] manual,[4.980000000000001/5.7] warmer[6.08/6.08] bucket.[6.08/7.26]\n",
      " Description.[10.46/10.86]\n",
      " The[12.0/12.2] appearance[12.2/12.6] adopts[12.6/13.24] the[13.24/13.5] pearl[13.5/13.78] white,[13.78/14.28] gray,[14.34/14.76] wood[15.16/15.2] grain[15.2/15.54] and[15.54/15.78] other[15.78/16.04] patterns.[16.04/16.64]\n",
      " Light[17.52/17.78] weight[17.78/18.14] and[18.14/18.38] can[18.38/18.62] move[18.62/18.92] at[18.92/19.26] home.[19.26/19.7]\n",
      " The[20.64/20.82] lid[20.82/21.12] can[21.12/21.4] be[21.4/21.68] separated.[21.68/22.2]\n",
      " Simple[23.4/23.6] and[23.6/23.94] clear[23.94/24.28] indicator[24.28/24.68] light[24.68/25.34] can[25.34/26.34] be[26.34/26.64] placed[26.64/27.0] smoothly[27.0/27.66] on[27.66/28.06] ceramic[28.06/28.36] tiles,[28.36/28.92] porcelain,[29.48/29.82]\n",
      " ceramics[29.82/30.62] and[30.62/30.9] other[30.9/31.22] floors.[31.22/31.82]\n",
      " Important[33.56/33.56] safeguards.[33.56/34.3]\n",
      " The[35.74/35.82] product[35.82/36.1] is[36.1/36.4] for[36.4/36.62] household[36.62/36.98] use[36.98/37.46] only.[37.46/38.06]\n",
      " The[38.92/39.14] item[39.14/39.38] should[39.38/39.7] be[39.7/39.86] used[39.86/40.16] only[40.16/40.46] as[40.46/40.76] intended.[40.76/41.34]\n",
      " Check[42.66/42.9] item[42.9/43.24] carefully[43.24/43.68] before[43.68/44.18] use.[44.18/44.66]\n",
      " Do[45.2/45.34] not[45.34/45.6] switch[45.6/45.86] on[45.86/46.14] heater[46.14/46.34] with[46.34/46.68] defects[46.68/46.98] or[46.98/47.4] damaged[47.4/47.78] cord.[47.78/48.52]\n",
      " Placing[49.68/50.06] of[50.06/50.52] the[50.52/50.7] item[50.7/50.98] in[50.98/51.3] water[51.3/51.6] is[51.6/51.94] forbidden.[51.94/52.5]\n",
      " Plug[53.64/53.8] in[53.8/53.96] the[53.96/54.18] item[54.18/54.46] only[54.46/54.86] to[54.86/55.12] AC[55.12/55.32] source.[55.32/56.0]\n",
      " The[56.82/57.62] appliance[57.62/58.02] should[58.02/58.32] be[58.32/58.58] connected[58.58/58.86] to[58.86/59.22] the[59.22/59.36] same[59.36/59.58] voltage[59.58/59.96] as[59.96/60.32] pointed[60.32/60.68] on[60.68/61.16] the[61.16/61.5] rating[61.5/61.7] label[61.7/62.14] and[62.14/62.38] package,[62.38/63.02]\n",
      " which[64.54/64.64] is[64.64/65.92] 120[65.92/66.52] volts[66.52/67.32] 60[67.32/68.08] hertz.[68.08/69.02]\n",
      " The[70.4/70.54] heater[70.54/70.74] could[70.74/71.12] be[71.12/71.38] plugged[71.38/71.72] into[71.72/72.64] only[72.64/73.44] grounded[73.44/73.9] socket.[73.9/74.52]\n",
      " Do[76.0/76.0] not[76.0/76.24] use[76.24/76.74] standard,[76.74/77.22] sorry.[77.72/78.58]\n",
      " Do[79.76/79.86] not[79.86/80.18] use[80.18/80.48] non[80.48/80.86]-standard[80.86/81.28] power[81.28/81.58] supply.[81.58/82.24]\n",
      " Before[83.74/84.3] plug[84.3/84.6] in[84.6/84.78] the[84.78/84.98] heater,[84.98/85.32] make[85.88/86.0] sure[86.0/86.22] that[86.22/86.36] it[86.36/86.5] is[86.5/86.72] switched[86.72/86.96] off.[86.96/87.82]\n",
      " Do[88.78/88.78] not[88.78/89.06] use[89.06/89.38] item[89.38/89.72] outdoors.[89.72/90.42]\n",
      " Protect[91.72/92.2] the[92.2/92.76] product[92.76/93.1] from[93.1/93.46] impacts[93.46/93.9] of[93.9/94.22] the[94.22/94.42] sharp[94.42/94.68] corners.[94.68/95.26]\n",
      " High[96.32/96.36] humidity.[96.36/96.82]\n",
      " Do[98.1/98.26] not[98.26/98.52] touch[98.52/98.78] heater[98.78/99.02] with[99.02/99.3] wet[99.3/99.56] hands.[99.56/100.08]\n",
      " If[101.18/101.36] there[101.36/101.56] is[101.56/101.72] water[101.72/101.96] on[101.96/102.24] the[102.24/102.52] surface[102.52/102.66] of[102.66/103.0] the[103.0/103.18] heater,[103.18/103.62] plug[104.0/104.04] it[104.04/104.26] out[104.26/104.54] immediately.[104.54/104.98]\n",
      " If[106.56/106.96] the[106.96/107.22] heater[107.22/107.54] falls[107.54/107.86] in[107.86/108.08] water,[108.08/108.52] plug[108.78/108.96] it[108.96/109.2] out[109.2/109.48] immediately.[109.48/109.94]\n",
      " It[109.94/110.86] is[110.86/111.18] forbidden[111.18/111.56] to[111.56/111.88] put[111.88/112.14] hands[112.14/112.46] in[112.46/112.78] the[112.78/112.88] water.[112.88/113.5]\n",
      " Before[115.36/115.68] next[115.68/116.0] use,[116.0/116.34] the[116.48/116.6] item[116.6/116.68] should[116.68/116.96] be[116.96/117.26] checked[117.26/117.54] by[117.54/117.92] specialist.[117.92/118.74]\n",
      " Always[119.92/120.2] plug[120.2/120.44] the[120.44/120.68] item[120.68/120.86] out[120.86/121.46] after[121.46/122.08] use[122.08/122.72] before[122.72/123.34] cleaning[123.34/123.74] or[123.74/124.06] if[124.06/124.16] you[124.16/124.36] find[124.36/124.64] the[124.64/124.88] defects.[124.88/125.42]\n",
      " The[126.74/126.8] water,[126.8/127.02] sorry.[127.58/127.94]\n",
      " The[128.98/129.08] heater[129.08/129.22] can't[129.22/129.64] be[129.64/129.92] carried[129.92/130.1] by[130.1/130.34] the[130.34/130.56] cord.[130.56/131.04]\n",
      " When[132.82/132.98] you[132.98/133.18] switch[133.18/133.38] off[133.38/133.58] the[133.58/133.78] heater,[133.78/133.98] keep[134.04/134.26] your[134.26/134.52] hand[134.52/134.72] on[134.72/134.9] the[134.9/135.06] plug[135.06/135.32] and[135.32/135.54] pull[135.54/135.7] it.[135.7/136.72]\n",
      " Do[138.8/139.36] not[139.36/139.68] pull[139.68/139.82] out[139.82/139.98] the[139.98/141.14] cord.[141.14/141.14]\n",
      " When[142.18/142.74] you[142.74/142.94] switch[142.94/143.1] off[143.1/143.36] the[143.36/143.56] heater,[143.56/143.88] keep[144.28/144.46] your[144.46/144.72] hand[144.72/144.96] on[144.96/145.14] the[145.14/145.3] plug[145.3/145.58] and[145.58/145.82] pull[145.82/146.0] it.[146.0/146.36]\n",
      " Do[146.82/146.86] not[146.86/147.18] pull[147.18/147.38] the[147.38/147.68] cord.[147.68/148.04]\n",
      " Do[149.12/149.26] not[149.26/149.52] wrap[149.52/149.76] the[149.76/150.02] cord[150.02/150.18] around[150.18/150.52] the[150.52/150.74] appliance[150.74/151.14] after[151.14/151.56] the[151.56/151.8] use.[151.8/152.36]\n",
      " Flatten[153.22/153.54] smoothly[153.54/153.96] the[153.96/154.32] cord[154.32/154.62] when[154.62/154.86] you[154.86/155.08] do[155.08/155.24] not[155.24/155.44] use[155.44/155.66] the[155.66/155.88] heater.[155.88/156.34]\n",
      " The[158.04/158.06] cord[158.06/158.34] should[158.34/158.6] be[158.6/158.94] changed.[158.94/159.56]\n",
      " The[162.22/162.36] cord[162.36/162.7] could[162.7/163.08] be[163.08/163.38] changed[163.38/163.72] only[163.72/164.08] in[164.08/164.34] service[164.34/164.58] center.[164.58/165.16]\n",
      " Only[166.07/166.42] original[166.42/167.0] spare[167.0/167.34] parts[167.34/167.8] could[167.8/168.08] be[168.08/168.2] used[168.2/168.46] for[168.46/168.68] repair.[168.68/169.3]\n",
      " This[170.24/170.48] appliance[170.48/170.84] is[170.84/171.1] not[171.1/171.36] intended[171.36/171.68] for[171.68/171.98] use[171.98/172.24] by[172.24/172.48] persons,[172.48/173.02] including[173.26/173.46] children[173.46/173.9] with[173.9/174.28] reduced[174.28/174.7] physical,[174.7/175.4]\n",
      " sensory[175.86/176.06] or[176.06/176.44] mental[176.44/176.8] capabilities,[176.8/177.5] or[178.26/178.4] lack[178.4/178.64] of[178.64/178.86] experience[178.86/179.24] in[179.24/179.52] knowledge,[179.52/179.88] unless[180.44/180.68] they[180.68/180.92] have[180.92/181.12] been[181.12/181.3]\n",
      " given[181.3/181.66] supervision[181.66/182.26] or[182.26/182.72] instruction[182.72/183.3] concerning[183.3/183.78] use[183.78/184.1] of[184.1/184.24] the[184.24/184.42] appliance[184.42/184.76] by[184.76/185.18] a[185.18/185.32] person[185.32/185.62] responsible[185.62/186.16]\n",
      " for[186.16/186.48] their[186.48/186.7] safety.[186.7/187.36]\n",
      " Safety[188.62/189.0] instructions.[189.0/189.8]\n",
      " It[190.5/190.86] is[190.86/191.12] recommended[191.12/191.56] to[191.56/192.06] heat[192.06/192.4] pure[192.4/192.76] cotton[192.76/193.08] materials.[193.08/193.6]\n",
      " Do[194.32/194.34] not[194.34/194.62] heat[194.62/194.88] chemical[194.88/195.24] fiber[195.24/195.6] towels[195.6/195.98] or[195.98/196.32] chemical[196.32/196.72] fiber[196.72/197.1] cloths[197.1/197.74] or[197.74/197.84] other[197.84/198.14] high[198.14/198.4] temperature[198.4/198.76] materials.[198.76/199.58]\n",
      " Before[201.12/201.3] use,[201.3/201.86] take[202.78/203.02] the[203.02/203.28] heater[203.28/203.5] out[203.5/203.78] of[203.78/203.9] the[203.9/204.02] box.[204.02/204.66]\n",
      " Remove[205.78/206.12] the[206.12/206.52] packing[206.52/206.66] material.[206.66/207.28]\n",
      " Check[208.04/208.28] the[208.28/208.56] product[208.56/208.88] perfection.[208.88/209.7]\n",
      " Performance[211.02/211.38] and[211.38/211.78] use[211.78/212.04] methods[212.04/212.44] of[212.44/212.72] the[212.72/212.94] product.[212.94/213.48]\n",
      " The[214.28/214.66] product[214.66/214.98] is[214.98/215.26] available[215.26/215.66] in[215.66/216.04] four[216.04/216.36] timing[216.36/216.68] settings,[216.68/217.16] 15,[217.64/218.02] 30,[218.32/218.8] 40[218.94/219.24] or[219.24/219.5] 60[219.5/219.9] minutes.[219.9/220.52]\n",
      " It[221.44/221.54] warms[221.54/221.78] up[221.78/221.98] quickly[221.98/222.34] in[222.34/222.58] a[222.58/222.66] minute[222.66/223.04] and[223.04/223.62] warms[223.62/223.8] the[223.8/224.04] inner[224.04/224.24] towel[224.24/224.62] in[224.62/224.92] 6[224.92/225.16] to[225.16/225.32] 10[225.32/225.56] minutes.[225.56/226.04]\n",
      " It[227.0/227.18] holds[227.18/227.46] up[227.46/227.78] to[227.78/228.36] 240[228.36/229.16] inch[229.16/230.1] by[230.1/230.6] 70[230.6/231.0] inch[231.0/231.4] oversized[231.4/231.92] bath[231.92/232.42] towels,[232.42/232.84] bathrobes,[233.38/233.88] blankets,[234.44/234.44] pajamas,[234.7/235.18] etc.[235.66/236.02]\n",
      " Timed[237.2/237.68] power[237.68/238.04] outage.[238.04/238.5]\n",
      " It[239.44/239.88] adopts[239.88/240.3] three[240.3/240.6] layers[240.6/240.96] of[240.96/241.38] functional[241.38/241.78] protection[241.78/242.58] with[242.58/243.4] temperature[243.4/243.78] sensor,[243.78/244.68] self[245.22/245.28] reset[245.28/245.68] thermostat,[245.68/246.68]\n",
      " and[247.02/247.18] overheated[247.18/247.7] temperature[247.7/248.14] fuse.[248.14/249.3]\n",
      " Cleaning.[259.7/260.58]\n",
      " Cleaning.[261.04/261.92]\n",
      " Before[262.1/262.34] cleaning,[262.34/263.78] sorry.[264.48/264.68]\n",
      " Before[265.32/265.68] cleaning[265.68/266.1] the[266.1/266.34] item,[266.34/266.62] wait,[267.0/267.0] when[267.32/267.42] it,[267.42/267.78] sorry.[268.28/268.5]\n",
      " Before[269.42/269.48] cleaning[269.48/269.86] the[269.86/270.12] item,[270.12/270.38] wait[270.72/270.74] when[270.74/270.9] it[270.9/271.14] cools[271.14/271.42] down[271.42/271.8] and[271.8/272.02] plug[272.02/272.2] out.[272.2/272.82]\n",
      " Do[273.48/273.6] not[273.6/273.82] use[273.82/274.06] abrasives[274.06/274.64] and[274.64/274.94] solvents.[274.94/275.46]\n",
      " Wipe[276.04/276.12] the[276.12/276.36] product[276.36/276.66] with[276.66/276.98] a[276.98/277.12] soft[277.12/277.44] wet[277.44/278.32] cloth.[278.32/279.44]\n",
      " Sorry.[280.58/280.96]\n",
      " Do[281.78/281.82] not[281.82/282.1] use[282.1/282.54] abrasives[282.54/283.04] and[283.04/283.34] solvents.[283.34/283.78]\n",
      " Wipe[284.32/284.48] the[284.48/284.72] product[284.72/285.02] with[285.02/285.24] a[285.24/285.5] soft[285.5/285.82] wet[285.82/286.14] cloth.[286.14/286.68]\n",
      " It[287.68/287.82] is[287.82/288.04] necessary[288.04/288.48] to[288.48/288.8] remove[288.8/289.16] dust[289.16/289.48] from[289.48/289.72] the[289.72/290.16] surface[290.16/290.46] regularly.[290.46/291.16]\n",
      " Washing[292.03999999999996/292.58] the[292.58/292.84] item[292.84/293.08] and[293.08/293.34] placing[293.34/293.6] it[293.6/293.86] in[293.86/293.96] water[293.96/294.16] is[294.16/294.72] forbidden.[294.72/296.02]\n",
      " Washing[296.44/296.98] the[296.98/297.22] item[297.22/297.54] and[297.54/297.88] placing[297.88/298.14] it[298.14/298.38] in[298.38/298.48] water[298.48/298.88] is[298.88/299.18] forbidden.[299.18/299.82]\n",
      " If[300.88/300.92] you're[300.92/301.12] going[301.12/301.48] to[301.48/301.56] use[301.56/302.26] heater[302.26/302.48] for[302.48/302.82] a[302.82/302.9] long[302.9/303.14] time,[303.14/305.54] sorry.[306.92/306.94]\n",
      "\n",
      " If[312.02/312.04] you're[312.04/312.28] going[312.28/312.58] not[312.58/313.06] to[313.06/313.22] use[313.22/313.48] heater[313.48/313.84] for[313.84/314.0] a[314.0/314.32] long[314.32/314.32] time,[314.32/315.08] wipe[315.34/315.54] it[315.54/315.8] surface[315.8/316.28] and[316.28/316.6] put[316.6/317.32] the[317.32/317.6] item[317.6/317.84] in[317.84/318.2] color[318.2/318.44] box.[318.44/319.08]\n",
      " It[319.90000000000003/320.3] should[320.3/320.46] be[320.46/320.68] placed[320.68/321.06] in[321.06/321.36] dry[321.36/321.64] ventilated[321.64/322.26] room.[322.26/322.84]\n",
      " Avoid[323.52/323.52] high[323.52/323.92] humidity[323.92/324.34] and[324.34/324.74] mechanical[324.74/325.2] impact[325.2/325.66] on[325.66/325.86] the[325.86/326.78] item.[326.78/326.78]\n",
      " Attention.[327.72/328.14]\n",
      " Never[329.02/329.2] leave[329.2/329.66] heater[329.66/330.22] unattended.[330.22/331.78]\n",
      " The[334.44/335.24] importer[335.24/335.68] retains[335.68/336.12] his[336.12/336.46] right[336.46/336.72] to[336.72/337.02] make[337.02/337.28] changes[337.28/337.66] in[337.66/338.0] appearance[338.0/338.36] and[338.36/338.8] completeness[338.8/339.2] of[339.2/339.46] the[339.46/339.62] item,[339.62/340.02]\n",
      " without[340.42/340.66] preliminary[340.66/341.18] notification[341.18/341.94] to[341.94/342.34] the[342.34/342.76] customer.[342.76/342.88]\n",
      " The[343.88/344.1] item[344.1/344.34] is[344.34/344.62] for[344.62/344.82] household[344.82/345.3] use[345.3/345.86] only.[345.86/346.26]\n",
      " Attention.[349.08/349.64]\n",
      " The[350.42/350.42] manufacturer[350.42/351.0] does[351.0/351.44] not[351.44/351.7] assume[351.7/352.0] any[352.0/352.32] liability[352.32/352.84] for[352.84/353.54] any[353.54/353.8] damage[353.8/354.16] caused[354.16/354.58] directly[354.58/355.08] or[355.08/355.3] indirectly[355.3/355.74]\n",
      " by[355.74/356.12] not[356.12/356.46] following[356.46/356.72] this[356.72/357.16] instruction[357.16/357.52] manual.[357.52/358.14]\n",
      " General[358.82/358.82] safety[358.82/359.22] rules[359.22/359.64] or[359.64/360.24] inference[360.24/360.68] in[360.68/360.9] the[360.9/361.38] construction[361.38/361.48] of[361.48/361.74] the[361.74/361.9] product.[361.9/362.28]\n",
      " This[365.3/365.52] marking[365.52/365.88] indicates[365.88/366.38] that[366.38/366.7] this[366.7/366.96] product[366.96/367.26] should[367.26/367.5] not[367.5/367.7] be[367.7/367.92] disposed[367.92/368.22] with[368.22/368.72] other[368.72/368.98] household[368.98/369.42] waste[369.42/369.78]\n",
      " throughout[369.78/370.12] the[370.12/370.3] EU.[370.3/370.72]\n",
      " To[371.42/371.62] prevent[371.62/371.92] possible[371.92/372.58] harm[372.58/372.94] to[372.94/373.16] the[373.16/373.32] environment[373.32/373.7] or[373.7/374.1] human[374.1/374.32] health[374.32/374.82] from[374.82/375.3] uncontrolled[375.3/375.72] waste[375.72/376.14] disposal,[376.14/376.7]\n",
      " recycle[376.7/377.62] it[377.62/377.92] responsibly[377.92/378.64] to[378.64/379.02] promote[379.02/379.4] the[379.4/379.68] sustainable[379.68/380.8] reuse.[380.8/381.26]\n",
      " Recyclate[382.91999999999996/383.71999999999997] responsibly[383.71999999999997/384.52] to[384.52/385.0] promote[385.0/385.48] the[385.48/385.88]\n",
      " recycle[386.7/387.48] it[387.48/387.82] responsibly[387.82/388.48] to[388.48/389.02] promote[389.02/389.44] the[389.44/389.82] sustainable[389.82/390.28] reuse[390.28/390.98] of[390.98/391.46] material[391.46/391.94] resources.[391.94/392.66]\n",
      " To[393.74/393.8] return[393.8/394.16] your[394.16/394.44] use[394.44/394.76] device,[394.76/395.44] please[396.2/396.22] use[396.22/396.5] the[396.5/397.04] return[397.04/397.04] and[397.04/397.24] collection[397.24/397.64] systems.[397.64/398.06]\n",
      " To[400.5/400.82] return[400.82/401.12] your[401.12/401.52] used[401.52/401.98] device,[401.98/402.56] please[402.88/403.18] use[403.18/403.54] the[403.54/403.76] return[403.76/404.1] and[404.1/404.38] collection[404.38/404.7] systems[404.7/405.32] or[405.32/405.68] contact[405.68/406.08] the[406.08/406.36]\n",
      " tailor[406.36/406.86] where[406.86/407.52] the[407.52/407.78] product[407.78/407.96] was[407.96/408.36] purchased.[408.36/408.88]\n",
      " They[409.76/409.78] can[409.78/409.98] take[409.98/410.3] this[410.3/410.62] product[410.62/411.02] for[411.02/411.24] environmental[411.24/411.9] safe[411.9/412.64] recycling.[412.64/413.22]\n",
      " They[413.98/414.3] can[414.3/414.52] take[414.52/414.74] this[414.74/418.18] product[418.18/418.44] for[418.44/418.94] environmental[418.94/419.62] safe[419.62/420.18] recycling.[420.18/420.7]\n",
      " That[423.22/423.54] is[423.54/424.8] a[424.8/424.92] warmer[424.92/425.16] bucket[425.16/425.8] instruction[425.8/426.56] manual.[426.56/427.1]\n"
     ]
    }
   ],
   "source": [
    "import whisper\n",
    "model = whisper.load_model(\"tiny.en\")\n",
    "transcript = model.transcribe(\n",
    "    word_timestamps=True,\n",
    "    audio=\"warmerBucketInstructions.wav\"\n",
    ")\n",
    "for segment in transcript['segments']:\n",
    "    print(''.join(f\"{word['word']}[{word['start']}/{word['end']}]\" \n",
    "                    for word in segment['words']))"
   ]
  },
  {
   "cell_type": "code",
   "execution_count": null,
   "metadata": {},
   "outputs": [],
   "source": [
    "# transcript"
   ]
  },
  {
   "cell_type": "code",
   "execution_count": null,
   "metadata": {},
   "outputs": [],
   "source": [
    "# transcript['text']"
   ]
  },
  {
   "cell_type": "code",
   "execution_count": null,
   "metadata": {},
   "outputs": [],
   "source": [
    "# %pip install ollama"
   ]
  },
  {
   "cell_type": "code",
   "execution_count": 4,
   "metadata": {},
   "outputs": [],
   "source": [
    "import ollama\n",
    "summary = ollama.chat(model='llama3', messages=[\n",
    "  {\n",
    "    'role': 'user',\n",
    "    'content': f'''Summarize the following transcript:\\n {transcript['text']}''',\n",
    "  },\n",
    "])"
   ]
  },
  {
   "cell_type": "code",
   "execution_count": 5,
   "metadata": {},
   "outputs": [
    {
     "name": "stdout",
     "output_type": "stream",
     "text": [
      "This is an instruction manual for a warmer bucket appliance, intended for household use only. The manual provides important safety precautions and guidelines for using the product.\n",
      "\n",
      "**Safety Precautions:**\n",
      "\n",
      "* Use the product only as intended.\n",
      "* Check the item carefully before use.\n",
      "* Do not switch on the heater with defects or damaged cord.\n",
      "* Plug in the item only to an AC source (120V, 60Hz).\n",
      "* Only use grounded sockets and avoid non-standard power supplies.\n",
      "* Keep hands away from wet surfaces and do not touch the heater with wet hands.\n",
      "\n",
      "**Usage:**\n",
      "\n",
      "* The product can be placed on ceramic tiles, porcelain, ceramics, and other floors.\n",
      "* It is recommended to heat pure cotton materials only.\n",
      "* Do not leave the heater unattended.\n",
      "* Always plug out the heater after use before cleaning or finding defects.\n",
      "\n",
      "**Cleaning:**\n",
      "\n",
      "* Wait for the heater to cool down before cleaning.\n",
      "* Use a soft wet cloth to wipe the product. Avoid abrasives and solvents.\n",
      "* Remove dust from the surface regularly.\n",
      "* Do not wash the item or place it in water.\n",
      "\n",
      "**Additional Notes:**\n",
      "\n",
      "* The manufacturer does not assume liability for damage caused by not following the instruction manual.\n",
      "* The product should be recycled responsibly at the end of its life cycle.\n",
      "* Contact the retailer where the product was purchased to return used devices and recycle them environmentally safely.\n"
     ]
    }
   ],
   "source": [
    "print(summary['message']['content'])"
   ]
  },
  {
   "cell_type": "code",
   "execution_count": 6,
   "metadata": {},
   "outputs": [],
   "source": [
    "# with open('transcript.txt', 'w+') as file:\n",
    "#   file.write(str(transcript))\n",
    "\n",
    "# with open('summary.txt', 'w+') as file:\n",
    "#   file.write(str(summary))\n"
   ]
  },
  {
   "cell_type": "code",
   "execution_count": null,
   "metadata": {},
   "outputs": [],
   "source": [
    "# summaryLen = len(summary['message']['content'].split())\n",
    "# transcriptLen = len(transcript['text'].split())\n",
    "# lastWord = transcript['segments'][-1]['words'][-1]\n",
    "# originalSeconds = lastWord['end']\n",
    "\n",
    "# summaryLen, transcriptLen, lastWord, originalSeconds"
   ]
  },
  {
   "cell_type": "code",
   "execution_count": null,
   "metadata": {},
   "outputs": [],
   "source": [
    "# %pip install torch\n",
    "# %pip install transformers\n",
    "# %pip install einops"
   ]
  },
  {
   "cell_type": "code",
   "execution_count": 7,
   "metadata": {},
   "outputs": [
    {
     "name": "stderr",
     "output_type": "stream",
     "text": [
      "/opt/homebrew/anaconda3/envs/py10/lib/python3.10/site-packages/tqdm/auto.py:21: TqdmWarning: IProgress not found. Please update jupyter and ipywidgets. See https://ipywidgets.readthedocs.io/en/stable/user_install.html\n",
      "  from .autonotebook import tqdm as notebook_tqdm\n",
      "<All keys matched successfully>\n"
     ]
    },
    {
     "name": "stdout",
     "output_type": "stream",
     "text": [
      "tensor([[-0.0039,  0.0538, -0.1763,  ..., -0.0453, -0.0359, -0.0250],\n",
      "        [-0.0066,  0.0046, -0.1858,  ..., -0.0284, -0.0296,  0.0129]])\n"
     ]
    }
   ],
   "source": [
    "import torch\n",
    "import torch.nn.functional as F\n",
    "from transformers import AutoTokenizer, AutoModel\n",
    "\n",
    "def mean_pooling(model_output, attention_mask):\n",
    "    token_embeddings = model_output[0]\n",
    "    input_mask_expanded = attention_mask.unsqueeze(-1).expand(token_embeddings.size()).float()\n",
    "    return torch.sum(token_embeddings * input_mask_expanded, 1) / torch.clamp(input_mask_expanded.sum(1), min=1e-9)\n",
    "\n",
    "sentences = ['search_query: What is TSNE?', 'search_query: Who is Laurens van der Maaten?']\n",
    "\n",
    "tokenizer = AutoTokenizer.from_pretrained('bert-base-uncased')\n",
    "model = AutoModel.from_pretrained('nomic-ai/nomic-embed-text-v1.5', trust_remote_code=True, safe_serialization=True)\n",
    "model.eval()\n",
    "\n",
    "encoded_input = tokenizer(sentences, padding=True, truncation=True, return_tensors='pt')\n",
    "\n",
    "# + matryoshka_dim = 512\n",
    "\n",
    "with torch.no_grad():\n",
    "    model_output = model(**encoded_input)\n",
    "\n",
    "embeddings = mean_pooling(model_output, encoded_input['attention_mask'])\n",
    "# + embeddings = F.layer_norm(embeddings, normalized_shape=(embeddings.shape[1],))\n",
    "# + embeddings = embeddings[:, :matryoshka_dim]\n",
    "embeddings = F.normalize(embeddings, p=2, dim=1)\n",
    "print(embeddings)"
   ]
  },
  {
   "cell_type": "code",
   "execution_count": null,
   "metadata": {},
   "outputs": [],
   "source": []
  },
  {
   "cell_type": "code",
   "execution_count": null,
   "metadata": {},
   "outputs": [],
   "source": []
  },
  {
   "cell_type": "code",
   "execution_count": null,
   "metadata": {},
   "outputs": [],
   "source": [
    "# np.float_ = np.float64\n",
    "# import chromadb\n",
    "# client = chromadb.Client()\n",
    "# collection = client.create_collection(\"sample_collection\")\n",
    "\n",
    "# # Add docs to the collection. Can also update and delete. Row-based API coming soon!\n",
    "# collection.add(\n",
    "#     documents=[\"This is document1\", \"This is document2\"], # we embed for you, or bring your own\n",
    "#     metadatas=[{\"source\": \"notion\"}, {\"source\": \"google-docs\"}], # filter on arbitrary metadata!\n",
    "#     ids=[\"doc1\", \"doc2\"], # must be unique for each doc \n",
    "# )\n",
    "\n",
    "# results = collection.query(\n",
    "#     query_texts=[\"This is a query document\"],\n",
    "#     n_results=2,\n",
    "#     # where={\"metadata_field\": \"is_equal_to_this\"}, # optional filter\n",
    "#     # where_document={\"$contains\":\"search_string\"}  # optional filter\n",
    "# )"
   ]
  },
  {
   "cell_type": "code",
   "execution_count": null,
   "metadata": {},
   "outputs": [],
   "source": [
    "# %pip install pgvector\n",
    "# %pip install psycopg\n",
    "# %pip install -U sentence_transformers"
   ]
  },
  {
   "cell_type": "code",
   "execution_count": null,
   "metadata": {},
   "outputs": [],
   "source": [
    "# from pgvector.psycopg import register_vector\n",
    "# import psycopg\n",
    "# from sentence_transformers import SentenceTransformer\n",
    "\n",
    "# conn = psycopg.connect(dbname='vec_test_db', autocommit=True, user=\"evanburnette\", password=\"postgres\")\n",
    "\n",
    "# conn.execute('CREATE EXTENSION IF NOT EXISTS vector')\n",
    "# register_vector(conn)\n",
    "\n",
    "# conn.execute('DROP TABLE IF EXISTS documents')\n",
    "# conn.execute('CREATE TABLE documents (id bigserial PRIMARY KEY, content text, embedding vector(384))')\n",
    "# conn.execute(\"CREATE INDEX ON documents USING GIN (to_tsvector('english', content))\")\n",
    "\n",
    "# sentences = [\n",
    "#     'The dog is barking',\n",
    "#     'The cat is purring',\n",
    "#     'The bear is growling'\n",
    "# ]\n",
    "# model = SentenceTransformer('multi-qa-MiniLM-L6-cos-v1')\n",
    "# embeddings = model.encode(sentences)\n",
    "# for content, embedding in zip(sentences, embeddings):\n",
    "#     conn.execute('INSERT INTO documents (content, embedding) VALUES (%s, %s)', (content, embedding))\n",
    "\n",
    "# sql = \"\"\"\n",
    "# WITH semantic_search AS (\n",
    "#     SELECT id, RANK () OVER (ORDER BY embedding <=> %(embedding)s) AS rank\n",
    "#     FROM documents\n",
    "#     ORDER BY embedding <=> %(embedding)s\n",
    "#     LIMIT 20\n",
    "# ),\n",
    "# keyword_search AS (\n",
    "#     SELECT id, RANK () OVER (ORDER BY ts_rank_cd(to_tsvector('english', content), query) DESC)\n",
    "#     FROM documents, plainto_tsquery('english', %(query)s) query\n",
    "#     WHERE to_tsvector('english', content) @@ query\n",
    "#     ORDER BY ts_rank_cd(to_tsvector('english', content), query) DESC\n",
    "#     LIMIT 20\n",
    "# )\n",
    "# SELECT\n",
    "#     COALESCE(semantic_search.id, keyword_search.id) AS id,\n",
    "#     COALESCE(1.0 / (%(k)s + semantic_search.rank), 0.0) +\n",
    "#     COALESCE(1.0 / (%(k)s + keyword_search.rank), 0.0) AS score\n",
    "# FROM semantic_search\n",
    "# FULL OUTER JOIN keyword_search ON semantic_search.id = keyword_search.id\n",
    "# ORDER BY score DESC\n",
    "# LIMIT 5\n",
    "# \"\"\"\n",
    "# query = 'growling bear'\n",
    "# embedding = model.encode(query)\n",
    "# k = 60\n",
    "# results = conn.execute(sql, {'query': query, 'embedding': embedding, 'k': k}).fetchall()\n",
    "# for row in results:\n",
    "#     print('document:', row[0], 'RRF score:', row[1])"
   ]
  },
  {
   "cell_type": "code",
   "execution_count": 9,
   "metadata": {},
   "outputs": [],
   "source": [
    "# from pgvector.psycopg import register_vector\n",
    "# import psycopg\n",
    "from sentence_transformers import SentenceTransformer\n",
    "\n",
    "# conn = psycopg.connect(dbname='vec_test_db', user=\"evanburnette\", autocommit=True, password=\"postgres\")\n",
    "\n",
    "# conn.execute('CREATE EXTENSION IF NOT EXISTS vector')\n",
    "# register_vector(conn)\n",
    "\n",
    "# conn.execute('DROP TABLE IF EXISTS documents')\n",
    "# conn.execute('CREATE TABLE documents (id bigserial PRIMARY KEY, content text, embedding vector(384))')\n",
    "\n",
    "# input = [\n",
    "#     'The dog is barking',\n",
    "#     'The cat is purring',\n",
    "#     'The bear is growling'\n",
    "# ]\n",
    "\n",
    "# embed_model = SentenceTransformer('all-MiniLM-L6-v2')\n",
    "# embeddings = embed_model.encode(input)\n",
    "\n",
    "# for content, embedding in zip(input, embeddings):\n",
    "#     conn.execute('INSERT INTO documents (content, embedding) VALUES (%s, %s)', (content, embedding))\n",
    "\n",
    "# document_id = 1\n",
    "# target = conn.execute('SELECT content FROM documents WHERE id = %(id)s', {'id': document_id}).fetchall()\n",
    "# neighbors = conn.execute('SELECT content FROM documents WHERE id != %(id)s ORDER BY embedding <=> (SELECT embedding FROM documents WHERE id = %(id)s) LIMIT 1', {'id': document_id}).fetchall()\n",
    "# print(target)\n",
    "# for neighbor in neighbors:\n",
    "#     print(neighbor[0])"
   ]
  },
  {
   "cell_type": "code",
   "execution_count": 10,
   "metadata": {},
   "outputs": [
    {
     "name": "stderr",
     "output_type": "stream",
     "text": [
      "/opt/homebrew/anaconda3/envs/py10/lib/python3.10/site-packages/huggingface_hub/file_download.py:1132: FutureWarning: `resume_download` is deprecated and will be removed in version 1.0.0. Downloads always resume when possible. If you want to force a new download, use `force_download=True`.\n",
      "  warnings.warn(\n",
      "<All keys matched successfully>\n"
     ]
    }
   ],
   "source": [
    "embed_model = SentenceTransformer(\"nomic-ai/nomic-embed-text-v1.5\", trust_remote_code=True)"
   ]
  },
  {
   "cell_type": "code",
   "execution_count": 34,
   "metadata": {},
   "outputs": [],
   "source": [
    "summary_text = summary['message']['content']\n",
    "# summary_text"
   ]
  },
  {
   "cell_type": "code",
   "execution_count": 33,
   "metadata": {},
   "outputs": [],
   "source": [
    "import re\n",
    "summary_lines = list(map(lambda x: x.strip().replace('* ', ''), filter(lambda x: x != '', re.split(r'\\n', summary_text))))\n",
    "# summary_lines"
   ]
  },
  {
   "cell_type": "code",
   "execution_count": 94,
   "metadata": {},
   "outputs": [],
   "source": [
    "summary_embeds = embed_model.encode([line for line in summary_lines])\n",
    "# assert np.linalg.norm(summary_embeds[0]) == 1, \"embeds are not normalized!\""
   ]
  },
  {
   "cell_type": "code",
   "execution_count": null,
   "metadata": {},
   "outputs": [],
   "source": [
    "# summary_embeds"
   ]
  },
  {
   "cell_type": "code",
   "execution_count": null,
   "metadata": {},
   "outputs": [],
   "source": []
  },
  {
   "cell_type": "code",
   "execution_count": 35,
   "metadata": {},
   "outputs": [],
   "source": [
    "# transcript['segments'][0]"
   ]
  },
  {
   "cell_type": "code",
   "execution_count": 18,
   "metadata": {},
   "outputs": [],
   "source": [
    "# transcript_lines = list(map(lambda x: x.strip().replace('* ', ''), filter(lambda x: x != '', re.split(r'\\.\\s', transcript['text']))))\n",
    "# transcript_embeds = [embed_model.encode(segment['text']) for segment in transcript['segments']]\n",
    "transcript_embeds = embed_model.encode([segment['text'] for segment in transcript['segments']])\n",
    "# transcript_embeds"
   ]
  },
  {
   "cell_type": "code",
   "execution_count": null,
   "metadata": {},
   "outputs": [],
   "source": [
    "# transcript_embeds = [embed_model.encode(line) for line in transcript_lines]"
   ]
  },
  {
   "cell_type": "code",
   "execution_count": 36,
   "metadata": {},
   "outputs": [],
   "source": [
    "# for each segment, create the phrase\n",
    "# transcript['segments'][20]['words']"
   ]
  },
  {
   "cell_type": "markdown",
   "metadata": {},
   "source": [
    "### Transcript data we want for our database\n",
    "- Line text\n",
    "- Line embed\n",
    "- Line start and end times"
   ]
  },
  {
   "cell_type": "code",
   "execution_count": 20,
   "metadata": {},
   "outputs": [
    {
     "name": "stderr",
     "output_type": "stream",
     "text": [
      "/var/folders/ww/2prrclfj731gmf182xddgx2m0000gn/T/ipykernel_21323/2769929972.py:3: UserWarning: Creating a tensor from a list of numpy.ndarrays is extremely slow. Please consider converting the list to a single numpy.ndarray with numpy.array() before converting to a tensor. (Triggered internally at /Users/runner/work/pytorch/pytorch/pytorch/torch/csrc/utils/tensor_new.cpp:277.)\n",
      "  summary_tensor = torch.FloatTensor(summary_embeds)\n"
     ]
    },
    {
     "data": {
      "text/plain": [
       "(torch.Size([22, 768]), torch.Size([96, 768]))"
      ]
     },
     "execution_count": 20,
     "metadata": {},
     "output_type": "execute_result"
    }
   ],
   "source": [
    "import torch\n",
    "import torch.nn.functional as F\n",
    "summary_tensor = torch.FloatTensor(summary_embeds)\n",
    "transcript_tensor = torch.FloatTensor(transcript_embeds)\n",
    "summary_tensor.shape, transcript_tensor.shape"
   ]
  },
  {
   "cell_type": "code",
   "execution_count": 119,
   "metadata": {},
   "outputs": [
    {
     "data": {
      "text/plain": [
       "(torch.Size([22, 96]), torch.Size([96, 96]))"
      ]
     },
     "execution_count": 119,
     "metadata": {},
     "output_type": "execute_result"
    }
   ],
   "source": [
    "summary_norm = F.normalize(summary_tensor, p=2, dim=1)\n",
    "transcript_norm = F.normalize(transcript_tensor, p=2, dim=1)\n",
    "\n",
    "mask = torch.eye(transcript_norm.shape[0])\n",
    "for idx, vec in enumerate(transcript_norm):\n",
    "    if transcript['segments'][idx]['text'] == '':\n",
    "        mask[idx][idx] = 0\n",
    "\n",
    "# mask = torch.tensor(mask) @ torch.tensor(mask).transpose(1,0)\n",
    "\n",
    "matches = (summary_norm @ transcript_norm.transpose(0,1)) @ mask\n",
    "matches.shape, mask.shape\n",
    "# matches = F.cosine_similarity(summary_tensor, transcript_tensor, dim=0)\n",
    "# matches.shape"
   ]
  },
  {
   "cell_type": "code",
   "execution_count": 120,
   "metadata": {},
   "outputs": [
    {
     "data": {
      "image/png": "[encoded data removed]",
      "text/plain": [
       "<Figure size 640x480 with 1 Axes>"
      ]
     },
     "metadata": {},
     "output_type": "display_data"
    }
   ],
   "source": [
    "plt.imshow(mask, cmap='hot', interpolation='nearest')\n",
    "plt.show()"
   ]
  },
  {
   "cell_type": "code",
   "execution_count": 121,
   "metadata": {},
   "outputs": [],
   "source": [
    "# %pip install matplotlib\n",
    "from matplotlib import pyplot as plt"
   ]
  },
  {
   "cell_type": "code",
   "execution_count": 122,
   "metadata": {},
   "outputs": [
    {
     "data": {
      "image/png": "[encoded data removed]",
      "text/plain": [
       "<Figure size 640x480 with 1 Axes>"
      ]
     },
     "metadata": {},
     "output_type": "display_data"
    }
   ],
   "source": [
    "plt.imshow(matches, cmap='hot', interpolation='nearest')\n",
    "# plt.colorbar()\n",
    "# plt.title('Matches heatmap')\n",
    "plt.show()"
   ]
  },
  {
   "cell_type": "code",
   "execution_count": null,
   "metadata": {},
   "outputs": [],
   "source": []
  },
  {
   "cell_type": "code",
   "execution_count": 65,
   "metadata": {},
   "outputs": [],
   "source": [
    "def create_sweep_gaussian(height, width, sigma=1.0):\n",
    "    # Create an empty tensor of the given size\n",
    "    result = torch.zeros((height, width))\n",
    "    \n",
    "    # Define the sweep path starting indices for each row\n",
    "    start_indices = torch.linspace(0, width - 1, steps=height).int()\n",
    "    \n",
    "    # Apply Gaussian emphasis across each row based on the start index\n",
    "    for row in range(height):\n",
    "        start_index = start_indices[row]\n",
    "        for col in range(width):\n",
    "            # Calculate the Gaussian emphasis using periodic boundary conditions\n",
    "            # This creates a wrap-around effect from the end of the row to the beginning\n",
    "            distance = (col - start_index)\n",
    "            result[row, col] = torch.exp(-(distance**2) / (2 * sigma**2))\n",
    "    \n",
    "    return result\n",
    "\n",
    "# Usage\n",
    "height, width = matches.shape\n",
    "sigma = 40.0  # Adjust sigma for how tightly you want the Gaussian to concentrate around the sweep\n",
    "sweep_gaussian_tensor = create_sweep_gaussian(height, width, sigma)"
   ]
  },
  {
   "cell_type": "code",
   "execution_count": 66,
   "metadata": {},
   "outputs": [
    {
     "data": {
      "image/png": "[encoded data removed]",
      "text/plain": [
       "<Figure size 640x480 with 1 Axes>"
      ]
     },
     "metadata": {},
     "output_type": "display_data"
    }
   ],
   "source": [
    "plt.imshow(sweep_gaussian_tensor, cmap=\"hot\", interpolation=\"nearest\")\n",
    "plt.show()"
   ]
  },
  {
   "cell_type": "code",
   "execution_count": 67,
   "metadata": {},
   "outputs": [
    {
     "data": {
      "text/plain": [
       "tensor([ 0,  7,  9, 10, 11, 13, 18, 23, 50,  6, 45, 47, 61, 58, 61, 66, 67, 69,\n",
       "        71, 81, 87, 91])"
      ]
     },
     "execution_count": 67,
     "metadata": {},
     "output_type": "execute_result"
    }
   ],
   "source": [
    "modMatches = matches * sweep_gaussian_tensor\n",
    "matchIdxs = modMatches.max(1)[1]\n",
    "matchIdxs"
   ]
  },
  {
   "cell_type": "code",
   "execution_count": 74,
   "metadata": {},
   "outputs": [
    {
     "data": {
      "image/png": "[encoded data removed]",
      "text/plain": [
       "<Figure size 640x480 with 2 Axes>"
      ]
     },
     "metadata": {},
     "output_type": "display_data"
    }
   ],
   "source": [
    "culledMatches = (modMatches > 0.8) * matches\n",
    "culledMatches\n",
    "plt.imshow(culledMatches, cmap='hot', interpolation='nearest')\n",
    "plt.colorbar()\n",
    "plt.title('Culled Matches Heatmap')\n",
    "plt.show()"
   ]
  },
  {
   "cell_type": "code",
   "execution_count": 84,
   "metadata": {},
   "outputs": [
    {
     "data": {
      "image/png": "[encoded data removed]",
      "text/plain": [
       "<Figure size 640x480 with 1 Axes>"
      ]
     },
     "metadata": {},
     "output_type": "display_data"
    }
   ],
   "source": [
    "crushVec = torch.ones(1, culledMatches.shape[0])\n",
    "crushedMatches = crushVec @ culledMatches\n",
    "crushedMatches.shape\n",
    "plt.imshow(crushedMatches, cmap='hot', interpolation='nearest')\n",
    "plt.show()"
   ]
  },
  {
   "cell_type": "code",
   "execution_count": 89,
   "metadata": {},
   "outputs": [
    {
     "data": {
      "text/plain": [
       "{0, 9, 10, 11, 13, 18, 23, 45, 57, 58, 61, 63, 66, 67, 68, 69, 81, 91}"
      ]
     },
     "execution_count": 89,
     "metadata": {},
     "output_type": "execute_result"
    }
   ],
   "source": [
    "crushedMatchSet = set()\n",
    "for idx, match in enumerate(crushedMatches.squeeze()):\n",
    "    if (match != 0):\n",
    "        crushedMatchSet.add(idx)\n",
    "crushedMatchSet"
   ]
  },
  {
   "cell_type": "code",
   "execution_count": 71,
   "metadata": {},
   "outputs": [
    {
     "data": {
      "text/plain": [
       "('It is recommended to heat pure cotton materials only.',\n",
       " ' ceramics and other floors.')"
      ]
     },
     "execution_count": 71,
     "metadata": {},
     "output_type": "execute_result"
    }
   ],
   "source": [
    "summary_lines[10], transcript['segments'][6]['text']"
   ]
  },
  {
   "cell_type": "code",
   "execution_count": 68,
   "metadata": {},
   "outputs": [
    {
     "data": {
      "image/png": "[encoded data removed]",
      "text/plain": [
       "<Figure size 640x480 with 1 Axes>"
      ]
     },
     "metadata": {},
     "output_type": "display_data"
    }
   ],
   "source": [
    "plt.imshow(modMatches, cmap=\"hot\", interpolation=\"nearest\")\n",
    "plt.show()"
   ]
  },
  {
   "cell_type": "code",
   "execution_count": null,
   "metadata": {},
   "outputs": [],
   "source": []
  },
  {
   "cell_type": "code",
   "execution_count": 123,
   "metadata": {},
   "outputs": [],
   "source": [
    "# newSummary = [transcript['segments'][idx] for idx in matchIdxs]\n",
    "newSummary = [transcript['segments'][idx] for idx in crushedMatchSet]\n",
    "# newSummary\n",
    "# '\\n'.join(newSummary)"
   ]
  },
  {
   "cell_type": "code",
   "execution_count": 124,
   "metadata": {},
   "outputs": [
    {
     "name": "stderr",
     "output_type": "stream",
     "text": [
      "huggingface/tokenizers: The current process just got forked, after parallelism has already been used. Disabling parallelism to avoid deadlocks...\n",
      "To disable this warning, you can either:\n",
      "\t- Avoid using `tokenizers` before the fork if possible\n",
      "\t- Explicitly set the environment variable TOKENIZERS_PARALLELISM=(true | false)\n",
      "huggingface/tokenizers: The current process just got forked, after parallelism has already been used. Disabling parallelism to avoid deadlocks...\n",
      "To disable this warning, you can either:\n",
      "\t- Avoid using `tokenizers` before the fork if possible\n",
      "\t- Explicitly set the environment variable TOKENIZERS_PARALLELISM=(true | false)\n",
      "huggingface/tokenizers: The current process just got forked, after parallelism has already been used. Disabling parallelism to avoid deadlocks...\n",
      "To disable this warning, you can either:\n",
      "\t- Avoid using `tokenizers` before the fork if possible\n",
      "\t- Explicitly set the environment variable TOKENIZERS_PARALLELISM=(true | false)\n",
      "huggingface/tokenizers: The current process just got forked, after parallelism has already been used. Disabling parallelism to avoid deadlocks...\n",
      "To disable this warning, you can either:\n",
      "\t- Avoid using `tokenizers` before the fork if possible\n",
      "\t- Explicitly set the environment variable TOKENIZERS_PARALLELISM=(true | false)\n",
      "huggingface/tokenizers: The current process just got forked, after parallelism has already been used. Disabling parallelism to avoid deadlocks...\n",
      "To disable this warning, you can either:\n",
      "\t- Avoid using `tokenizers` before the fork if possible\n",
      "\t- Explicitly set the environment variable TOKENIZERS_PARALLELISM=(true | false)\n",
      "huggingface/tokenizers: The current process just got forked, after parallelism has already been used. Disabling parallelism to avoid deadlocks...\n",
      "To disable this warning, you can either:\n",
      "\t- Avoid using `tokenizers` before the fork if possible\n",
      "\t- Explicitly set the environment variable TOKENIZERS_PARALLELISM=(true | false)\n",
      "huggingface/tokenizers: The current process just got forked, after parallelism has already been used. Disabling parallelism to avoid deadlocks...\n",
      "To disable this warning, you can either:\n",
      "\t- Avoid using `tokenizers` before the fork if possible\n",
      "\t- Explicitly set the environment variable TOKENIZERS_PARALLELISM=(true | false)\n",
      "huggingface/tokenizers: The current process just got forked, after parallelism has already been used. Disabling parallelism to avoid deadlocks...\n",
      "To disable this warning, you can either:\n",
      "\t- Avoid using `tokenizers` before the fork if possible\n",
      "\t- Explicitly set the environment variable TOKENIZERS_PARALLELISM=(true | false)\n",
      "huggingface/tokenizers: The current process just got forked, after parallelism has already been used. Disabling parallelism to avoid deadlocks...\n",
      "To disable this warning, you can either:\n",
      "\t- Avoid using `tokenizers` before the fork if possible\n",
      "\t- Explicitly set the environment variable TOKENIZERS_PARALLELISM=(true | false)\n",
      "huggingface/tokenizers: The current process just got forked, after parallelism has already been used. Disabling parallelism to avoid deadlocks...\n",
      "To disable this warning, you can either:\n",
      "\t- Avoid using `tokenizers` before the fork if possible\n",
      "\t- Explicitly set the environment variable TOKENIZERS_PARALLELISM=(true | false)\n",
      "huggingface/tokenizers: The current process just got forked, after parallelism has already been used. Disabling parallelism to avoid deadlocks...\n",
      "To disable this warning, you can either:\n",
      "\t- Avoid using `tokenizers` before the fork if possible\n",
      "\t- Explicitly set the environment variable TOKENIZERS_PARALLELISM=(true | false)\n",
      "huggingface/tokenizers: The current process just got forked, after parallelism has already been used. Disabling parallelism to avoid deadlocks...\n",
      "To disable this warning, you can either:\n",
      "\t- Avoid using `tokenizers` before the fork if possible\n",
      "\t- Explicitly set the environment variable TOKENIZERS_PARALLELISM=(true | false)\n",
      "huggingface/tokenizers: The current process just got forked, after parallelism has already been used. Disabling parallelism to avoid deadlocks...\n",
      "To disable this warning, you can either:\n",
      "\t- Avoid using `tokenizers` before the fork if possible\n",
      "\t- Explicitly set the environment variable TOKENIZERS_PARALLELISM=(true | false)\n",
      "huggingface/tokenizers: The current process just got forked, after parallelism has already been used. Disabling parallelism to avoid deadlocks...\n",
      "To disable this warning, you can either:\n",
      "\t- Avoid using `tokenizers` before the fork if possible\n",
      "\t- Explicitly set the environment variable TOKENIZERS_PARALLELISM=(true | false)\n",
      "huggingface/tokenizers: The current process just got forked, after parallelism has already been used. Disabling parallelism to avoid deadlocks...\n",
      "To disable this warning, you can either:\n",
      "\t- Avoid using `tokenizers` before the fork if possible\n",
      "\t- Explicitly set the environment variable TOKENIZERS_PARALLELISM=(true | false)\n",
      "huggingface/tokenizers: The current process just got forked, after parallelism has already been used. Disabling parallelism to avoid deadlocks...\n",
      "To disable this warning, you can either:\n",
      "\t- Avoid using `tokenizers` before the fork if possible\n",
      "\t- Explicitly set the environment variable TOKENIZERS_PARALLELISM=(true | false)\n",
      "huggingface/tokenizers: The current process just got forked, after parallelism has already been used. Disabling parallelism to avoid deadlocks...\n",
      "To disable this warning, you can either:\n",
      "\t- Avoid using `tokenizers` before the fork if possible\n",
      "\t- Explicitly set the environment variable TOKENIZERS_PARALLELISM=(true | false)\n",
      "huggingface/tokenizers: The current process just got forked, after parallelism has already been used. Disabling parallelism to avoid deadlocks...\n",
      "To disable this warning, you can either:\n",
      "\t- Avoid using `tokenizers` before the fork if possible\n",
      "\t- Explicitly set the environment variable TOKENIZERS_PARALLELISM=(true | false)\n"
     ]
    }
   ],
   "source": [
    "def extract_clip(input_file, start_time, end_time, output_file):\n",
    "    (\n",
    "        ffmpeg\n",
    "        .input(input_file, ss=start_time, to=end_time)\n",
    "        .output(output_file, codec=\"copy\")  # Using codec=\"copy\" to avoid re-encoding\n",
    "        .run(capture_stdout=True, capture_stderr=True)\n",
    "    )\n",
    "clips = []\n",
    "for idx, segment in enumerate(newSummary):\n",
    "  clipName = f'clip{idx}.mkv'\n",
    "  try:\n",
    "      extract_clip(filename, segment['start'], segment['end'], clipName)\n",
    "      clips.append(clipName)\n",
    "  except:\n",
    "      print(f'failed on {clipName}\\n{segment}')\n",
    "\n",
    "with open('file_list.txt', 'w+') as fileList:\n",
    "  for clip in clips:\n",
    "    fileList.write(f'file {clip}\\n')"
   ]
  },
  {
   "cell_type": "code",
   "execution_count": 125,
   "metadata": {},
   "outputs": [
    {
     "name": "stderr",
     "output_type": "stream",
     "text": [
      "huggingface/tokenizers: The current process just got forked, after parallelism has already been used. Disabling parallelism to avoid deadlocks...\n",
      "To disable this warning, you can either:\n",
      "\t- Avoid using `tokenizers` before the fork if possible\n",
      "\t- Explicitly set the environment variable TOKENIZERS_PARALLELISM=(true | false)\n",
      "ffmpeg version 7.0.1 Copyright (c) 2000-2024 the FFmpeg developers\n",
      "  built with Apple clang version 15.0.0 (clang-1500.3.9.4)\n",
      "  configuration: --prefix=/opt/homebrew/Cellar/ffmpeg/7.0.1 --enable-shared --enable-pthreads --enable-version3 --cc=clang --host-cflags= --host-ldflags='-Wl,-ld_classic' --enable-ffplay --enable-gnutls --enable-gpl --enable-libaom --enable-libaribb24 --enable-libbluray --enable-libdav1d --enable-libharfbuzz --enable-libjxl --enable-libmp3lame --enable-libopus --enable-librav1e --enable-librist --enable-librubberband --enable-libsnappy --enable-libsrt --enable-libssh --enable-libsvtav1 --enable-libtesseract --enable-libtheora --enable-libvidstab --enable-libvmaf --enable-libvorbis --enable-libvpx --enable-libwebp --enable-libx264 --enable-libx265 --enable-libxml2 --enable-libxvid --enable-lzma --enable-libfontconfig --enable-libfreetype --enable-frei0r --enable-libass --enable-libopencore-amrnb --enable-libopencore-amrwb --enable-libopenjpeg --enable-libspeex --enable-libsoxr --enable-libzmq --enable-libzimg --disable-libjack --disable-indev=jack --enable-videotoolbox --enable-audiotoolbox --enable-neon\n",
      "  libavutil      59.  8.100 / 59.  8.100\n",
      "  libavcodec     61.  3.100 / 61.  3.100\n",
      "  libavformat    61.  1.100 / 61.  1.100\n",
      "  libavdevice    61.  1.100 / 61.  1.100\n",
      "  libavfilter    10.  1.100 / 10.  1.100\n",
      "  libswscale      8.  1.100 /  8.  1.100\n",
      "  libswresample   5.  1.100 /  5.  1.100\n",
      "  libpostproc    58.  1.100 / 58.  1.100\n",
      "[matroska,webm @ 0x122705c90] Auto-inserting h264_mp4toannexb bitstream filter\n",
      "Input #0, concat, from 'file_list.txt':\n",
      "  Duration: N/A, start: 0.000000, bitrate: N/A\n",
      "  Stream #0:0: Video: h264 (High), yuv420p(tv, bt709, progressive), 1920x1080, 60 fps, 60 tbr, 1k tbn\n",
      "      Metadata:\n",
      "        DURATION        : 00:00:03.331000000\n",
      "  Stream #0:1: Audio: aac (LC), 48000 Hz, stereo, fltp\n",
      "      Metadata:\n",
      "        title           : simple_aac_recording0\n",
      "        DURATION        : 00:00:03.306000000\n",
      "Stream mapping:\n",
      "  Stream #0:0 -> #0:0 (h264 (native) -> h264 (libx264))\n",
      "  Stream #0:1 -> #0:1 (aac (native) -> vorbis (libvorbis))\n",
      "Press [q] to stop, [?] for help\n",
      "[libx264 @ 0x123806130] using cpu capabilities: ARMv8 NEON\n",
      "[libx264 @ 0x123806130] profile High, level 4.2, 4:2:0, 8-bit\n",
      "[libx264 @ 0x123806130] 264 - core 164 r3108 31e19f9 - H.264/MPEG-4 AVC codec - Copyleft 2003-2023 - http://www.videolan.org/x264.html - options: cabac=1 ref=3 deblock=1:0:0 analyse=0x3:0x113 me=hex subme=7 psy=1 psy_rd=1.00:0.00 mixed_ref=1 me_range=16 chroma_me=1 trellis=1 8x8dct=1 cqm=0 deadzone=21,11 fast_pskip=1 chroma_qp_offset=-2 threads=12 lookahead_threads=2 sliced_threads=0 nr=0 decimate=1 interlaced=0 bluray_compat=0 constrained_intra=0 bframes=3 b_pyramid=2 b_adapt=1 b_bias=0 direct=1 weightb=1 open_gop=0 weightp=2 keyint=250 keyint_min=25 scenecut=40 intra_refresh=0 rc_lookahead=40 rc=crf mbtree=1 crf=23.0 qcomp=0.60 qpmin=0 qpmax=69 qpstep=4 ip_ratio=1.40 aq=1:1.00\n",
      "Output #0, matroska, to 'output.mkv':\n",
      "  Metadata:\n",
      "    encoder         : Lavf61.1.100\n",
      "  Stream #0:0: Video: h264 (H264 / 0x34363248), yuv420p(tv, bt709, progressive), 1920x1080, q=2-31, 60 fps, 1k tbn\n",
      "      Metadata:\n",
      "        DURATION        : 00:00:03.331000000\n",
      "        encoder         : Lavc61.3.100 libx264\n",
      "      Side data:\n",
      "        cpb: bitrate max/min/avg: 0/0/0 buffer size: 0 vbv_delay: N/A\n",
      "  Stream #0:1: Audio: vorbis (oV[0][0] / 0x566F), 48000 Hz, stereo, fltp\n",
      "      Metadata:\n",
      "        title           : simple_aac_recording0\n",
      "        DURATION        : 00:00:03.306000000\n",
      "        encoder         : Lavc61.3.100 libvorbis\n",
      "[matroska,webm @ 0x1030053a0] Auto-inserting h264_mp4toannexb bitstream filterts/s speed= 1.1x     \n",
      "[matroska,webm @ 0x103105510] Auto-inserting h264_mp4toannexb bitstream filterts/s speed=1.38x    \n",
      "[matroska,webm @ 0x1032060d0] Auto-inserting h264_mp4toannexb bitstream filterts/s speed=2.03x    \n",
      "[matroska,webm @ 0x123a078d0] Auto-inserting h264_mp4toannexb bitstream filterts/s speed=2.26x    \n",
      "[matroska,webm @ 0x122604e90] Auto-inserting h264_mp4toannexb bitstream filterts/s speed=2.36x    \n",
      "[matroska,webm @ 0x103005390] Auto-inserting h264_mp4toannexb bitstream filterts/s speed=2.39x    \n",
      "[matroska,webm @ 0x103105840] Auto-inserting h264_mp4toannexb bitstream filterts/s speed=2.43x    \n",
      "[matroska,webm @ 0x103004e20] Auto-inserting h264_mp4toannexb bitstream filterts/s speed=2.42x    \n",
      "[matroska,webm @ 0x1032060b0] Auto-inserting h264_mp4toannexb bitstream filterts/s speed=2.47x    \n",
      "[matroska,webm @ 0x103005830] Auto-inserting h264_mp4toannexb bitstream filterts/s speed=2.51x    \n",
      "[matroska,webm @ 0x103106110] Auto-inserting h264_mp4toannexb bitstream filterts/s speed=2.55x    \n",
      "[matroska,webm @ 0x103106110] Auto-inserting h264_mp4toannexb bitstream filterts/s speed=2.51x    \n",
      "[matroska,webm @ 0x1239055e0] Auto-inserting h264_mp4toannexb bitstream filterts/s speed=2.49x    \n",
      "[matroska,webm @ 0x103204f70] Auto-inserting h264_mp4toannexb bitstream filterts/s speed= 2.5x    \n",
      "[matroska,webm @ 0x123904c50] Auto-inserting h264_mp4toannexb bitstream filterts/s speed=2.51x    \n",
      "[matroska,webm @ 0x123904b40] Auto-inserting h264_mp4toannexb bitstream filterts/s speed= 2.5x    \n",
      "[matroska,webm @ 0x122648cf0] Auto-inserting h264_mp4toannexb bitstream filterts/s speed=2.51x    \n",
      "[out#0/matroska @ 0x600001c44000] video:17719KiB audio:718KiB subtitle:0KiB other streams:0KiB global headers:4KiB muxing overhead: 0.370635%\n",
      "frame= 4472 fps=153 q=-1.0 Lsize=   18506KiB time=00:01:15.10 bitrate=2018.6kbits/s speed=2.56x    \n",
      "[libx264 @ 0x123806130] frame I:19    Avg QP:17.74  size: 63799\n",
      "[libx264 @ 0x123806130] frame P:2093  Avg QP:21.71  size:  7073\n",
      "[libx264 @ 0x123806130] frame B:2360  Avg QP:27.10  size:   902\n",
      "[libx264 @ 0x123806130] consecutive B-frames:  0.8% 85.6%  2.3% 11.3%\n",
      "[libx264 @ 0x123806130] mb I  I16..4: 22.3% 64.9% 12.8%\n",
      "[libx264 @ 0x123806130] mb P  I16..4:  1.3%  2.5%  0.1%  P16..4: 14.3%  3.3%  2.0%  0.0%  0.0%    skip:76.6%\n",
      "[libx264 @ 0x123806130] mb B  I16..4:  0.0%  0.1%  0.0%  B16..8: 10.7%  0.1%  0.0%  direct: 0.1%  skip:89.0%  L0:27.9% L1:71.7% BI: 0.4%\n",
      "[libx264 @ 0x123806130] 8x8 transform intra:64.5% inter:81.9%\n",
      "[libx264 @ 0x123806130] coded y,uvDC,uvAC intra: 23.7% 14.8% 1.8% inter: 2.7% 1.3% 0.0%\n",
      "[libx264 @ 0x123806130] i16 v,h,dc,p: 28% 29% 17% 26%\n",
      "[libx264 @ 0x123806130] i8 v,h,dc,ddl,ddr,vr,hd,vl,hu: 26% 15% 43%  2%  3%  3%  3%  2%  2%\n",
      "[libx264 @ 0x123806130] i4 v,h,dc,ddl,ddr,vr,hd,vl,hu: 32% 24% 14%  3%  7%  7%  7%  4%  3%\n",
      "[libx264 @ 0x123806130] i8c dc,h,v,p: 72% 12% 13%  3%\n",
      "[libx264 @ 0x123806130] Weighted P-Frames: Y:0.1% UV:0.1%\n",
      "[libx264 @ 0x123806130] ref P L0: 78.5% 12.7%  6.7%  2.1%  0.0%\n",
      "[libx264 @ 0x123806130] ref B L0: 93.1%  6.4%  0.5%\n",
      "[libx264 @ 0x123806130] ref B L1: 99.2%  0.8%\n",
      "[libx264 @ 0x123806130] kb/s:1932.77\n"
     ]
    },
    {
     "data": {
      "text/plain": [
       "(None, None)"
      ]
     },
     "execution_count": 125,
     "metadata": {},
     "output_type": "execute_result"
    }
   ],
   "source": [
    "# inputs = [ffmpeg.input(file) for file in clips]\n",
    "\n",
    "# concatenated = ffmpeg.concat(*inputs, v=1, a=1).node\n",
    "# output = ffmpeg.output(concatenated[0], concatenated[1], 'output.mp4')\n",
    "# ffmpeg.run(output)\n",
    "\n",
    "# concatenated = ffmpeg.concat(*inputs, v=1, a=1, unsafe=True)  # Added unsafe=True for files with different properties\n",
    "# output = ffmpeg.output(concatenated, 'output.mp4')\n",
    "# ffmpeg.run(output)\n",
    "\n",
    "ffmpeg.input('file_list.txt', format='concat', safe=0)\\\n",
    "    .output('output.mkv')\\\n",
    "    .run()"
   ]
  },
  {
   "cell_type": "code",
   "execution_count": null,
   "metadata": {},
   "outputs": [],
   "source": [
    "howto = ollama.chat(model='llama3', messages=[\n",
    "  {\n",
    "    'role': 'user',\n",
    "    'content': f'''pytorch maximum along tensor axis. Code only please''',\n",
    "  },\n",
    "])\n",
    "print(howto['message']['content'])"
   ]
  },
  {
   "cell_type": "code",
   "execution_count": null,
   "metadata": {},
   "outputs": [],
   "source": []
  },
  {
   "cell_type": "code",
   "execution_count": null,
   "metadata": {},
   "outputs": [],
   "source": []
  }
 ],
 "metadata": {
  "kernelspec": {
   "display_name": "Python 3 (ipykernel)",
   "language": "python",
   "name": "python3"
  },
  "language_info": {
   "codemirror_mode": {
    "name": "ipython",
    "version": 3
   },
   "file_extension": ".py",
   "mimetype": "text/x-python",
   "name": "python",
   "nbconvert_exporter": "python",
   "pygments_lexer": "ipython3",
   "version": "3.10.14"
  }
 },
 "nbformat": 4,
 "nbformat_minor": 4
}

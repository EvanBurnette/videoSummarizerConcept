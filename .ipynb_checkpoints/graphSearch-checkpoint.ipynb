{
 "cells": [
  {
   "cell_type": "code",
   "execution_count": 9,
   "metadata": {},
   "outputs": [],
   "source": [
    "import torch\n",
    "import numpy as np"
   ]
  },
  {
   "cell_type": "code",
   "execution_count": 2,
   "metadata": {},
   "outputs": [],
   "source": [
    "from matplotlib import pyplot as plt"
   ]
  },
  {
   "cell_type": "code",
   "execution_count": 43,
   "metadata": {},
   "outputs": [],
   "source": [
    "graph = torch.rand(10,40)"
   ]
  },
  {
   "cell_type": "code",
   "execution_count": 44,
   "metadata": {},
   "outputs": [
    {
     "data": {
      "image/png": "[encoded data removed]",
      "text/plain": [
       "<Figure size 640x480 with 2 Axes>"
      ]
     },
     "metadata": {},
     "output_type": "display_data"
    }
   ],
   "source": [
    "plt.imshow(graph, cmap='hot', interpolation='nearest')\n",
    "plt.colorbar()\n",
    "plt.title('Culled Matches Heatmap')\n",
    "plt.show()"
   ]
  },
  {
   "cell_type": "code",
   "execution_count": 14,
   "metadata": {},
   "outputs": [
    {
     "data": {
      "text/plain": [
       "torch.Size([10, 40])"
      ]
     },
     "execution_count": 14,
     "metadata": {},
     "output_type": "execute_result"
    }
   ],
   "source": [
    "mod = torch.zeros(10,40)\n",
    "mod\n",
    "\n",
    "lin10 = np.linspace(0,1,10)\n",
    "lin10\n",
    "\n",
    "lin40 = np.linspace(0,1,40)\n",
    "lin40\n",
    "mod.shape"
   ]
  },
  {
   "cell_type": "code",
   "execution_count": 20,
   "metadata": {},
   "outputs": [
    {
     "name": "stdout",
     "output_type": "stream",
     "text": [
      "tensor([[1.0000, 0.9994, 0.9978, 0.9950, 0.9912, 0.9862, 0.9802, 0.9731, 0.9651,\n",
      "         0.9560, 0.9460, 0.9350, 0.9231, 0.9104, 0.8968, 0.8825, 0.8674, 0.8517,\n",
      "         0.8353, 0.8183, 0.8007, 0.7827, 0.7642, 0.7454, 0.7261, 0.7066, 0.6869,\n",
      "         0.6670, 0.6469, 0.6267, 0.6065, 0.5863, 0.5662, 0.5461, 0.5261, 0.5063,\n",
      "         0.4868, 0.4674, 0.4483, 0.4296],\n",
      "        [1.0000, 0.9997, 0.9983, 0.9958, 0.9922, 0.9875, 0.9818, 0.9750, 0.9672,\n",
      "         0.9584, 0.9486, 0.9378, 0.9262, 0.9136, 0.9003, 0.8862, 0.8713, 0.8557,\n",
      "         0.8394, 0.8226, 0.8052, 0.7873, 0.7689, 0.7501, 0.7310, 0.7115, 0.6919,\n",
      "         0.6720, 0.6519, 0.6318, 0.6116, 0.5914, 0.5712, 0.5511, 0.5311, 0.5113,\n",
      "         0.4916, 0.4722, 0.4531, 0.4342],\n",
      "        [0.9999, 0.9999, 0.9988, 0.9965, 0.9932, 0.9888, 0.9833, 0.9768, 0.9692,\n",
      "         0.9607, 0.9511, 0.9406, 0.9292, 0.9169, 0.9037, 0.8898, 0.8751, 0.8596,\n",
      "         0.8435, 0.8268, 0.8096, 0.7918, 0.7735, 0.7548, 0.7358, 0.7164, 0.6968,\n",
      "         0.6770, 0.6570, 0.6368, 0.6166, 0.5964, 0.5762, 0.5561, 0.5361, 0.5162,\n",
      "         0.4965, 0.4770, 0.4578, 0.4389],\n",
      "        [0.9997, 1.0000, 0.9991, 0.9972, 0.9941, 0.9900, 0.9848, 0.9785, 0.9712,\n",
      "         0.9629, 0.9536, 0.9433, 0.9321, 0.9200, 0.9071, 0.8933, 0.8788, 0.8636,\n",
      "         0.8476, 0.8311, 0.8139, 0.7963, 0.7781, 0.7595, 0.7406, 0.7213, 0.7017,\n",
      "         0.6819, 0.6620, 0.6419, 0.6217, 0.6015, 0.5813, 0.5611, 0.5411, 0.5212,\n",
      "         0.5014, 0.4819, 0.4626, 0.4436],\n",
      "        [0.9994, 1.0000, 0.9994, 0.9978, 0.9950, 0.9912, 0.9862, 0.9802, 0.9731,\n",
      "         0.9651, 0.9560, 0.9460, 0.9350, 0.9231, 0.9104, 0.8968, 0.8825, 0.8674,\n",
      "         0.8517, 0.8353, 0.8183, 0.8007, 0.7827, 0.7642, 0.7454, 0.7261, 0.7066,\n",
      "         0.6869, 0.6670, 0.6469, 0.6267, 0.6065, 0.5863, 0.5662, 0.5461, 0.5261,\n",
      "         0.5063, 0.4868, 0.4674, 0.4483],\n",
      "        [0.9991, 1.0000, 0.9997, 0.9983, 0.9958, 0.9922, 0.9875, 0.9818, 0.9750,\n",
      "         0.9672, 0.9584, 0.9486, 0.9378, 0.9262, 0.9136, 0.9003, 0.8862, 0.8713,\n",
      "         0.8557, 0.8394, 0.8226, 0.8052, 0.7873, 0.7689, 0.7501, 0.7310, 0.7115,\n",
      "         0.6919, 0.6720, 0.6519, 0.6318, 0.6116, 0.5914, 0.5712, 0.5511, 0.5311,\n",
      "         0.5113, 0.4916, 0.4722, 0.4531],\n",
      "        [0.9988, 0.9999, 0.9999, 0.9988, 0.9965, 0.9932, 0.9888, 0.9833, 0.9768,\n",
      "         0.9692, 0.9607, 0.9511, 0.9406, 0.9292, 0.9169, 0.9037, 0.8898, 0.8751,\n",
      "         0.8596, 0.8435, 0.8268, 0.8096, 0.7918, 0.7735, 0.7548, 0.7358, 0.7164,\n",
      "         0.6968, 0.6770, 0.6570, 0.6368, 0.6166, 0.5964, 0.5762, 0.5561, 0.5361,\n",
      "         0.5162, 0.4965, 0.4770, 0.4578],\n",
      "        [0.9983, 0.9997, 1.0000, 0.9991, 0.9972, 0.9941, 0.9900, 0.9848, 0.9785,\n",
      "         0.9712, 0.9629, 0.9536, 0.9433, 0.9321, 0.9200, 0.9071, 0.8933, 0.8788,\n",
      "         0.8636, 0.8476, 0.8311, 0.8139, 0.7963, 0.7781, 0.7595, 0.7406, 0.7213,\n",
      "         0.7017, 0.6819, 0.6620, 0.6419, 0.6217, 0.6015, 0.5813, 0.5611, 0.5411,\n",
      "         0.5212, 0.5014, 0.4819, 0.4626],\n",
      "        [0.9978, 0.9994, 1.0000, 0.9994, 0.9978, 0.9950, 0.9912, 0.9862, 0.9802,\n",
      "         0.9731, 0.9651, 0.9560, 0.9460, 0.9350, 0.9231, 0.9104, 0.8968, 0.8825,\n",
      "         0.8674, 0.8517, 0.8353, 0.8183, 0.8007, 0.7827, 0.7642, 0.7454, 0.7261,\n",
      "         0.7066, 0.6869, 0.6670, 0.6469, 0.6267, 0.6065, 0.5863, 0.5662, 0.5461,\n",
      "         0.5261, 0.5063, 0.4868, 0.4674],\n",
      "        [0.9972, 0.9991, 1.0000, 0.9997, 0.9983, 0.9958, 0.9922, 0.9875, 0.9818,\n",
      "         0.9750, 0.9672, 0.9584, 0.9486, 0.9378, 0.9262, 0.9136, 0.9003, 0.8862,\n",
      "         0.8713, 0.8557, 0.8394, 0.8226, 0.8052, 0.7873, 0.7689, 0.7501, 0.7310,\n",
      "         0.7115, 0.6919, 0.6720, 0.6519, 0.6318, 0.6116, 0.5914, 0.5712, 0.5511,\n",
      "         0.5311, 0.5113, 0.4916, 0.4722]])\n"
     ]
    }
   ],
   "source": [
    "def create_diagonal_gaussian(height, width, sigma=1.0):\n",
    "    # Create an empty tensor of the given size\n",
    "    result = torch.zeros((height, width))\n",
    "    \n",
    "    # Calculate the indices for the main diagonal\n",
    "    min_dim = min(height, width)\n",
    "    \n",
    "    # Iterate over each element in the diagonal\n",
    "    for i in range(min_dim):\n",
    "        # Calculate the Gaussian emphasis for the diagonal element\n",
    "        for j in range(width):\n",
    "            result[i, j] = torch.exp(torch.tensor(-((j - i)**2) / (2 * sigma**2)))\n",
    "    \n",
    "    return result\n",
    "\n",
    "# Usage\n",
    "height = 10\n",
    "width = 40\n",
    "sigma = 3.0  # Adjust sigma to control the spread of the Gaussian emphasis\n",
    "diagonal_gaussian_tensor = create_diagonal_gaussian(height, width, sigma)\n",
    "\n",
    "print(diagonal_gaussian_tensor)"
   ]
  },
  {
   "cell_type": "code",
   "execution_count": 45,
   "metadata": {},
   "outputs": [
    {
     "name": "stdout",
     "output_type": "stream",
     "text": [
      "tensor([[1.0000e+00, 9.9501e-01, 9.8020e-01, 9.5600e-01, 9.2312e-01, 8.8250e-01,\n",
      "         8.3527e-01, 7.8270e-01, 7.2615e-01, 6.6698e-01, 6.0653e-01, 5.4607e-01,\n",
      "         4.8675e-01, 4.2956e-01, 3.7531e-01, 3.2465e-01, 2.7804e-01, 2.3575e-01,\n",
      "         1.9790e-01, 1.6447e-01, 1.3534e-01, 1.1025e-01, 8.8922e-02, 7.1005e-02,\n",
      "         5.6135e-02, 4.3937e-02, 3.4047e-02, 2.6121e-02, 1.9841e-02, 1.4921e-02,\n",
      "         1.1109e-02, 8.1887e-03, 5.9760e-03, 4.3178e-03, 3.0887e-03, 2.1875e-03,\n",
      "         1.5338e-03, 1.0648e-03, 7.3180e-04, 4.9796e-04],\n",
      "        [9.2312e-01, 9.5600e-01, 9.8020e-01, 9.9501e-01, 1.0000e+00, 9.9501e-01,\n",
      "         9.8020e-01, 9.5600e-01, 9.2312e-01, 8.8250e-01, 8.3527e-01, 7.8270e-01,\n",
      "         7.2615e-01, 6.6698e-01, 6.0653e-01, 5.4607e-01, 4.8675e-01, 4.2956e-01,\n",
      "         3.7531e-01, 3.2465e-01, 2.7804e-01, 2.3575e-01, 1.9790e-01, 1.6447e-01,\n",
      "         1.3534e-01, 1.1025e-01, 8.8922e-02, 7.1005e-02, 5.6135e-02, 4.3937e-02,\n",
      "         3.4047e-02, 2.6121e-02, 1.9841e-02, 1.4921e-02, 1.1109e-02, 8.1887e-03,\n",
      "         5.9760e-03, 4.3178e-03, 3.0887e-03, 2.1875e-03],\n",
      "        [7.2615e-01, 7.8270e-01, 8.3527e-01, 8.8250e-01, 9.2312e-01, 9.5600e-01,\n",
      "         9.8020e-01, 9.9501e-01, 1.0000e+00, 9.9501e-01, 9.8020e-01, 9.5600e-01,\n",
      "         9.2312e-01, 8.8250e-01, 8.3527e-01, 7.8270e-01, 7.2615e-01, 6.6698e-01,\n",
      "         6.0653e-01, 5.4607e-01, 4.8675e-01, 4.2956e-01, 3.7531e-01, 3.2465e-01,\n",
      "         2.7804e-01, 2.3575e-01, 1.9790e-01, 1.6447e-01, 1.3534e-01, 1.1025e-01,\n",
      "         8.8922e-02, 7.1005e-02, 5.6135e-02, 4.3937e-02, 3.4047e-02, 2.6121e-02,\n",
      "         1.9841e-02, 1.4921e-02, 1.1109e-02, 8.1887e-03],\n",
      "        [4.2956e-01, 4.8675e-01, 5.4607e-01, 6.0653e-01, 6.6698e-01, 7.2615e-01,\n",
      "         7.8270e-01, 8.3527e-01, 8.8250e-01, 9.2312e-01, 9.5600e-01, 9.8020e-01,\n",
      "         9.9501e-01, 1.0000e+00, 9.9501e-01, 9.8020e-01, 9.5600e-01, 9.2312e-01,\n",
      "         8.8250e-01, 8.3527e-01, 7.8270e-01, 7.2615e-01, 6.6698e-01, 6.0653e-01,\n",
      "         5.4607e-01, 4.8675e-01, 4.2956e-01, 3.7531e-01, 3.2465e-01, 2.7804e-01,\n",
      "         2.3575e-01, 1.9790e-01, 1.6447e-01, 1.3534e-01, 1.1025e-01, 8.8922e-02,\n",
      "         7.1005e-02, 5.6135e-02, 4.3937e-02, 3.4047e-02],\n",
      "        [2.3575e-01, 2.7804e-01, 3.2465e-01, 3.7531e-01, 4.2956e-01, 4.8675e-01,\n",
      "         5.4607e-01, 6.0653e-01, 6.6698e-01, 7.2615e-01, 7.8270e-01, 8.3527e-01,\n",
      "         8.8250e-01, 9.2312e-01, 9.5600e-01, 9.8020e-01, 9.9501e-01, 1.0000e+00,\n",
      "         9.9501e-01, 9.8020e-01, 9.5600e-01, 9.2312e-01, 8.8250e-01, 8.3527e-01,\n",
      "         7.8270e-01, 7.2615e-01, 6.6698e-01, 6.0653e-01, 5.4607e-01, 4.8675e-01,\n",
      "         4.2956e-01, 3.7531e-01, 3.2465e-01, 2.7804e-01, 2.3575e-01, 1.9790e-01,\n",
      "         1.6447e-01, 1.3534e-01, 1.1025e-01, 8.8922e-02],\n",
      "        [1.1025e-01, 1.3534e-01, 1.6447e-01, 1.9790e-01, 2.3575e-01, 2.7804e-01,\n",
      "         3.2465e-01, 3.7531e-01, 4.2956e-01, 4.8675e-01, 5.4607e-01, 6.0653e-01,\n",
      "         6.6698e-01, 7.2615e-01, 7.8270e-01, 8.3527e-01, 8.8250e-01, 9.2312e-01,\n",
      "         9.5600e-01, 9.8020e-01, 9.9501e-01, 1.0000e+00, 9.9501e-01, 9.8020e-01,\n",
      "         9.5600e-01, 9.2312e-01, 8.8250e-01, 8.3527e-01, 7.8270e-01, 7.2615e-01,\n",
      "         6.6698e-01, 6.0653e-01, 5.4607e-01, 4.8675e-01, 4.2956e-01, 3.7531e-01,\n",
      "         3.2465e-01, 2.7804e-01, 2.3575e-01, 1.9790e-01],\n",
      "        [3.4047e-02, 4.3937e-02, 5.6135e-02, 7.1005e-02, 8.8922e-02, 1.1025e-01,\n",
      "         1.3534e-01, 1.6447e-01, 1.9790e-01, 2.3575e-01, 2.7804e-01, 3.2465e-01,\n",
      "         3.7531e-01, 4.2956e-01, 4.8675e-01, 5.4607e-01, 6.0653e-01, 6.6698e-01,\n",
      "         7.2615e-01, 7.8270e-01, 8.3527e-01, 8.8250e-01, 9.2312e-01, 9.5600e-01,\n",
      "         9.8020e-01, 9.9501e-01, 1.0000e+00, 9.9501e-01, 9.8020e-01, 9.5600e-01,\n",
      "         9.2312e-01, 8.8250e-01, 8.3527e-01, 7.8270e-01, 7.2615e-01, 6.6698e-01,\n",
      "         6.0653e-01, 5.4607e-01, 4.8675e-01, 4.2956e-01],\n",
      "        [1.1109e-02, 1.4921e-02, 1.9841e-02, 2.6121e-02, 3.4047e-02, 4.3937e-02,\n",
      "         5.6135e-02, 7.1005e-02, 8.8922e-02, 1.1025e-01, 1.3534e-01, 1.6447e-01,\n",
      "         1.9790e-01, 2.3575e-01, 2.7804e-01, 3.2465e-01, 3.7531e-01, 4.2956e-01,\n",
      "         4.8675e-01, 5.4607e-01, 6.0653e-01, 6.6698e-01, 7.2615e-01, 7.8270e-01,\n",
      "         8.3527e-01, 8.8250e-01, 9.2312e-01, 9.5600e-01, 9.8020e-01, 9.9501e-01,\n",
      "         1.0000e+00, 9.9501e-01, 9.8020e-01, 9.5600e-01, 9.2312e-01, 8.8250e-01,\n",
      "         8.3527e-01, 7.8270e-01, 7.2615e-01, 6.6698e-01],\n",
      "        [3.0887e-03, 4.3178e-03, 5.9760e-03, 8.1887e-03, 1.1109e-02, 1.4921e-02,\n",
      "         1.9841e-02, 2.6121e-02, 3.4047e-02, 4.3937e-02, 5.6135e-02, 7.1005e-02,\n",
      "         8.8922e-02, 1.1025e-01, 1.3534e-01, 1.6447e-01, 1.9790e-01, 2.3575e-01,\n",
      "         2.7804e-01, 3.2465e-01, 3.7531e-01, 4.2956e-01, 4.8675e-01, 5.4607e-01,\n",
      "         6.0653e-01, 6.6698e-01, 7.2615e-01, 7.8270e-01, 8.3527e-01, 8.8250e-01,\n",
      "         9.2312e-01, 9.5600e-01, 9.8020e-01, 9.9501e-01, 1.0000e+00, 9.9501e-01,\n",
      "         9.8020e-01, 9.5600e-01, 9.2312e-01, 8.8250e-01],\n",
      "        [4.9796e-04, 7.3180e-04, 1.0648e-03, 1.5338e-03, 2.1875e-03, 3.0887e-03,\n",
      "         4.3178e-03, 5.9760e-03, 8.1887e-03, 1.1109e-02, 1.4921e-02, 1.9841e-02,\n",
      "         2.6121e-02, 3.4047e-02, 4.3937e-02, 5.6135e-02, 7.1005e-02, 8.8922e-02,\n",
      "         1.1025e-01, 1.3534e-01, 1.6447e-01, 1.9790e-01, 2.3575e-01, 2.7804e-01,\n",
      "         3.2465e-01, 3.7531e-01, 4.2956e-01, 4.8675e-01, 5.4607e-01, 6.0653e-01,\n",
      "         6.6698e-01, 7.2615e-01, 7.8270e-01, 8.3527e-01, 8.8250e-01, 9.2312e-01,\n",
      "         9.5600e-01, 9.8020e-01, 9.9501e-01, 1.0000e+00]])\n"
     ]
    }
   ],
   "source": [
    "def create_sweep_gaussian(height, width, sigma=1.0):\n",
    "    # Create an empty tensor of the given size\n",
    "    result = torch.zeros((height, width))\n",
    "    \n",
    "    # Define the sweep path starting indices for each row\n",
    "    start_indices = torch.linspace(0, width - 1, steps=height).int()\n",
    "    \n",
    "    # Apply Gaussian emphasis across each row based on the start index\n",
    "    for row in range(height):\n",
    "        start_index = start_indices[row]\n",
    "        for col in range(width):\n",
    "            # Calculate the Gaussian emphasis using periodic boundary conditions\n",
    "            # This creates a wrap-around effect from the end of the row to the beginning\n",
    "            distance = (col - start_index)\n",
    "            result[row, col] = torch.exp(-(distance**2) / (2 * sigma**2))\n",
    "    \n",
    "    return result\n",
    "\n",
    "# Usage\n",
    "height = 10\n",
    "width = 40\n",
    "sigma = 10.0  # Adjust sigma for how tightly you want the Gaussian to concentrate around the sweep\n",
    "sweep_gaussian_tensor = create_sweep_gaussian(height, width, sigma)\n",
    "\n",
    "print(sweep_gaussian_tensor)"
   ]
  },
  {
   "cell_type": "code",
   "execution_count": 46,
   "metadata": {},
   "outputs": [
    {
     "data": {
      "image/png": "[encoded data removed]",
      "text/plain": [
       "<Figure size 640x480 with 2 Axes>"
      ]
     },
     "metadata": {},
     "output_type": "display_data"
    }
   ],
   "source": [
    "plt.imshow(sweep_gaussian_tensor, cmap=\"hot\", interpolation=\"nearest\")\n",
    "plt.colorbar()\n",
    "plt.title('sweep_gaussian_tensor')\n",
    "plt.show()"
   ]
  },
  {
   "cell_type": "code",
   "execution_count": 50,
   "metadata": {},
   "outputs": [
    {
     "data": {
      "image/png": "[encoded data removed]",
      "text/plain": [
       "<Figure size 640x480 with 2 Axes>"
      ]
     },
     "metadata": {},
     "output_type": "display_data"
    }
   ],
   "source": [
    "modGraph = graph * sweep_gaussian_tensor\n",
    "plt.imshow(modGraph, cmap=\"hot\", interpolation=\"nearest\")\n",
    "plt.colorbar()\n",
    "plt.show()"
   ]
  },
  {
   "cell_type": "code",
   "execution_count": 52,
   "metadata": {},
   "outputs": [
    {
     "data": {
      "text/plain": [
       "(10, 40)"
      ]
     },
     "execution_count": 52,
     "metadata": {},
     "output_type": "execute_result"
    }
   ],
   "source": [
    "rmax, cmax = modGraph.shape\n",
    "rmax, cmax"
   ]
  },
  {
   "cell_type": "code",
   "execution_count": null,
   "metadata": {},
   "outputs": [],
   "source": []
  }
 ],
 "metadata": {
  "kernelspec": {
   "display_name": "py10",
   "language": "python",
   "name": "python3"
  },
  "language_info": {
   "codemirror_mode": {
    "name": "ipython",
    "version": 3
   },
   "file_extension": ".py",
   "mimetype": "text/x-python",
   "name": "python",
   "nbconvert_exporter": "python",
   "pygments_lexer": "ipython3",
   "version": "3.10.14"
  }
 },
 "nbformat": 4,
 "nbformat_minor": 2
}
